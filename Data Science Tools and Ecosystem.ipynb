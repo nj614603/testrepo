{
 "cells": [
  {
   "cell_type": "markdown",
   "id": "e86ec7f7-cb79-48cf-9be8-086f92f80f5a",
   "metadata": {},
   "source": [
    "# Data Science tools and Ecosystem "
   ]
  },
  {
   "cell_type": "markdown",
   "id": "40ee9d8a-f747-4757-b349-ca0cce018334",
   "metadata": {},
   "source": [
    "In this notebook, Data Science Tools and Ecosystem are summarized."
   ]
  },
  {
   "cell_type": "markdown",
   "id": "a81234a9-2ca4-4c2b-a40e-ab455662f688",
   "metadata": {},
   "source": [
    "# Objectives\n",
    "-Add comments to code\n",
    "-Create Markdown cells\n",
    "-Add ordered and unordered lists to markdown cells \n",
    "-Format content of Markdown\n"
   ]
  },
  {
   "cell_type": "code",
   "execution_count": null,
   "id": "bfc4e300-e923-4c94-84c0-0fbd582f51e0",
   "metadata": {},
   "outputs": [],
   "source": [
    "*Some of the popular languages that Data Scientists use are:*\n",
    "\n",
    "*python\n",
    "*R\n",
    "*scala\n",
    "*java\n",
    "*C++\n",
    "*JVscript"
   ]
  },
  {
   "cell_type": "markdown",
   "id": "03e1f132-8fa7-4ed3-b0c4-ab0fede08275",
   "metadata": {},
   "source": [
    "*Data Science Libraries*\n",
    "\n",
    "*Pandas\n",
    "*matplotlib\n",
    "*Pytorch\n",
    "*GGplot\n",
    "*TensorFlow\n",
    "*Seaborn"
   ]
  },
  {
   "cell_type": "markdown",
   "id": "07f2e031-bbad-4ea7-90d8-424d32ac6724",
   "metadata": {},
   "source": [
    "|Data science tools|\n",
    "|------------------|\n",
    "|Anaconda|\n",
    "|Jupyter Notebooks|\n",
    "|R Studio|\n",
    "|Spyder|\n",
    "|Zeppelin|"
   ]
  },
  {
   "cell_type": "markdown",
   "id": "b9d19afd-171f-46b8-bdcb-cdb2e16b0f0d",
   "metadata": {},
   "source": [
    "### Below are a few examples of evaluating arithmetic expressions in Python\n",
    "2+5\n",
    "5+4"
   ]
  },
  {
   "cell_type": "code",
   "execution_count": 12,
   "id": "14153d93-acd1-4b06-999e-ac57d04e817a",
   "metadata": {},
   "outputs": [
    {
     "data": {
      "text/plain": [
       "17"
      ]
     },
     "execution_count": 12,
     "metadata": {},
     "output_type": "execute_result"
    }
   ],
   "source": [
    "#This a simple arithmetic expression to mutiply then add integers\n",
    "\n",
    "(3*4)+5"
   ]
  },
  {
   "cell_type": "code",
   "execution_count": 14,
   "id": "c1c71ef4-eef1-4c40-bba2-c29c696e1ab5",
   "metadata": {},
   "outputs": [
    {
     "data": {
      "text/plain": [
       "3.3333333333333335"
      ]
     },
     "execution_count": 14,
     "metadata": {},
     "output_type": "execute_result"
    }
   ],
   "source": [
    "#Convert 200 mins into HRS\n",
    "200/60"
   ]
  },
  {
   "cell_type": "markdown",
   "id": "59dedef4-3cac-4922-bc93-92889d3d66d1",
   "metadata": {},
   "source": [
    "## Author\n",
    "\n",
    "nj614603"
   ]
  },
  {
   "cell_type": "code",
   "execution_count": null,
   "id": "73f2fb5d-0f7a-4bfe-867c-7d7b423187d9",
   "metadata": {},
   "outputs": [],
   "source": []
  }
 ],
 "metadata": {
  "kernelspec": {
   "display_name": "Python 3 (ipykernel)",
   "language": "python",
   "name": "python3"
  },
  "language_info": {
   "codemirror_mode": {
    "name": "ipython",
    "version": 3
   },
   "file_extension": ".py",
   "mimetype": "text/x-python",
   "name": "python",
   "nbconvert_exporter": "python",
   "pygments_lexer": "ipython3",
   "version": "3.12.4"
  }
 },
 "nbformat": 4,
 "nbformat_minor": 5
}
