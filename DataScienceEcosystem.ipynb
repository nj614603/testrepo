{
 "cells": [
  {
   "cell_type": "markdown",
   "id": "da708b7f-0da1-4f32-834a-5ce97c412eea",
   "metadata": {},
   "source": [
    "# H: Data Science Tools and Ecosystem"
   ]
  },
  {
   "cell_type": "markdown",
   "id": "0978a3ba-71fe-4c6a-98fb-f5ffd089310f",
   "metadata": {},
   "source": [
    "# In this notebook, Data Science Tools and Ecosystem are summarized."
   ]
  },
  {
   "cell_type": "markdown",
   "id": "a53125d0-517b-427c-89ea-3c0ccbc724dc",
   "metadata": {},
   "source": [
    "**ordered list**"
   ]
  },
  {
   "cell_type": "markdown",
   "id": "67c1a5e0-60cf-4136-b11d-9bd34bacceba",
   "metadata": {},
   "source": [
    "1. R\n",
    "2. Python\n",
    "3. Stata"
   ]
  },
  {
   "cell_type": "markdown",
   "id": "b25ebf72-c907-4bfe-8038-66d314f0e546",
   "metadata": {},
   "source": [
    "|Data Science Tools|\n",
    "|-----|\n",
    "|1. R|\n",
    "|2. Python|\n",
    "|3. Stata|"
   ]
  },
  {
   "cell_type": "markdown",
   "id": "182da005-882e-4840-a5c2-f1cb3d46c6ac",
   "metadata": {},
   "source": [
    "### Below are a few examples of evaluating arithmetic expressions in Python"
   ]
  },
  {
   "cell_type": "code",
   "execution_count": null,
   "id": "34c84b41-7283-4a7e-9d22-bf1d08038ef6",
   "metadata": {},
   "outputs": [],
   "source": [
    "#This a simple arithmetic expression to mutiply then add integers"
   ]
  },
  {
   "cell_type": "code",
   "execution_count": 6,
   "id": "c5e69c38-f240-4add-b323-0c98879a1dc3",
   "metadata": {},
   "outputs": [
    {
     "data": {
      "text/plain": [
       "17"
      ]
     },
     "execution_count": 6,
     "metadata": {},
     "output_type": "execute_result"
    }
   ],
   "source": [
    "(3*4)+5"
   ]
  },
  {
   "cell_type": "code",
   "execution_count": null,
   "id": "f1a8df39-ec82-41a2-a1b9-10e269c12008",
   "metadata": {},
   "outputs": [],
   "source": [
    "#deviding 200 mins into hours "
   ]
  },
  {
   "cell_type": "code",
   "execution_count": 8,
   "id": "7f8905ba-54a4-4701-8c89-a733076c2c01",
   "metadata": {},
   "outputs": [
    {
     "data": {
      "text/plain": [
       "3.3333333333333335"
      ]
     },
     "execution_count": 8,
     "metadata": {},
     "output_type": "execute_result"
    }
   ],
   "source": [
    "200/60"
   ]
  },
  {
   "cell_type": "markdown",
   "id": "20a6c65f-1726-4eec-b672-50ba3868ed00",
   "metadata": {},
   "source": [
    "## Objectives:\n",
    "\n",
    "1. List popular languages for Data Science\n",
    "2. gain proficiency in coding the languages \n",
    "3. Be abe to analyze \n",
    "4. be able tp visualize and tell stories \n",
    "5. Communicate findings "
   ]
  },
  {
   "cell_type": "markdown",
   "id": "010fb3fe-4a91-4dc1-aaf0-7235dca18846",
   "metadata": {},
   "source": [
    "# H2: Author\n",
    "nj614603"
   ]
  },
  {
   "cell_type": "code",
   "execution_count": null,
   "id": "b1fd4c9e-92ac-4db2-a6b6-cb0f8053e907",
   "metadata": {},
   "outputs": [],
   "source": []
  }
 ],
 "metadata": {
  "kernelspec": {
   "display_name": "Python 3 (ipykernel)",
   "language": "python",
   "name": "python3"
  },
  "language_info": {
   "codemirror_mode": {
    "name": "ipython",
    "version": 3
   },
   "file_extension": ".py",
   "mimetype": "text/x-python",
   "name": "python",
   "nbconvert_exporter": "python",
   "pygments_lexer": "ipython3",
   "version": "3.12.4"
  }
 },
 "nbformat": 4,
 "nbformat_minor": 5
}
